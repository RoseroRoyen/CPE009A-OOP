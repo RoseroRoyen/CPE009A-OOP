{
  "nbformat": 4,
  "nbformat_minor": 0,
  "metadata": {
    "colab": {
      "provenance": [],
      "authorship_tag": "ABX9TyMywaAaYGcNEaYRExt7ZU7l",
      "include_colab_link": true
    },
    "kernelspec": {
      "name": "python3",
      "display_name": "Python 3"
    },
    "language_info": {
      "name": "python"
    }
  },
  "cells": [
    {
      "cell_type": "markdown",
      "metadata": {
        "id": "view-in-github",
        "colab_type": "text"
      },
      "source": [
        "<a href=\"https://colab.research.google.com/github/RoseroRoyen/CPE009A-OOP/blob/main/OOP_Concepts_Application_II.ipynb\" target=\"_parent\"><img src=\"https://colab.research.google.com/assets/colab-badge.svg\" alt=\"Open In Colab\"/></a>"
      ]
    },
    {
      "cell_type": "code",
      "execution_count": 53,
      "metadata": {
        "colab": {
          "base_uri": "https://localhost:8080/"
        },
        "id": "v3WHJGCnc2Ie",
        "outputId": "87c608a5-fbf7-43a3-8a06-43582f97fd3a"
      },
      "outputs": [
        {
          "output_type": "stream",
          "name": "stdout",
          "text": [
            "The side of the square is: 4\n",
            "The side of the Pentagon is: 5\n",
            "The side of the Hexagon is: 6\n",
            "The side of the Heptagon is: 7\n",
            "The side of the Decagon is: 10\n"
          ]
        }
      ],
      "source": [
        "class shapes:\n",
        "  def __init__(self,sides):\n",
        "    self.__sides = sides\n",
        "\n",
        "    class Square(shapes):\n",
        "  pass\n",
        "class Pentagon(shapes):\n",
        "  pass\n",
        "class Hexagon(shapes):\n",
        "  pass\n",
        "class Heptagon(shapes):\n",
        "  pass\n",
        "class Decagon(shapes):\n",
        "  pass\n",
        "\n",
        "square = Square\n",
        "print(\"The side of the square is: 4\")\n",
        "pentagon = Pentagon\n",
        "print(\"The side of the Pentagon is: 5\")\n",
        "hexagon = Hexagon\n",
        "print(\"The side of the Hexagon is: 6\")\n",
        "heptagon = Heptagon\n",
        "print(\"The side of the Heptagon is: 7\")\n",
        "decagon = Decagon\n",
        "print(\"The side of the Decagon is: 10\")\n",
        "\n",
        "\n",
        "\n",
        "\n",
        "\n",
        "\n",
        "\n",
        "\n",
        ""
      ]
    }
  ]
}