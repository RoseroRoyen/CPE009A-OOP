{
  "nbformat": 4,
  "nbformat_minor": 0,
  "metadata": {
    "colab": {
      "provenance": [],
      "authorship_tag": "ABX9TyNRnipCuPNfnCh6vSrd7nCm",
      "include_colab_link": true
    },
    "kernelspec": {
      "name": "python3",
      "display_name": "Python 3"
    },
    "language_info": {
      "name": "python"
    }
  },
  "cells": [
    {
      "cell_type": "markdown",
      "metadata": {
        "id": "view-in-github",
        "colab_type": "text"
      },
      "source": [
        "<a href=\"https://colab.research.google.com/github/RoseroRoyen/CPE009A-OOP/blob/main/Exersice1.ipynb\" target=\"_parent\"><img src=\"https://colab.research.google.com/assets/colab-badge.svg\" alt=\"Open In Colab\"/></a>"
      ]
    },
    {
      "cell_type": "markdown",
      "source": [
        "**Algorithm and Flowchart**"
      ],
      "metadata": {
        "id": "lwkunG9vTcx4"
      }
    },
    {
      "cell_type": "markdown",
      "source": [
        "1. Input your width and heigth\n",
        "2. Multiply the width and height to get the area\n",
        "3. Multiply by 2 the sum of width and height\n",
        "4. the program will show the result from the given numbers.\n",
        "\n",
        "\n"
      ],
      "metadata": {
        "id": "ekWdBFevUJp5"
      }
    },
    {
      "cell_type": "code",
      "execution_count": null,
      "metadata": {
        "id": "0Hg9qhx4TbvM"
      },
      "outputs": [],
      "source": [
        "print(\"The area and perimeter\")\n",
        "w1= float(input())\n",
        "h1= float(input())\n",
        "area= (w1 * h1)\n",
        "perimeter = 2*(w1 + h1)\n",
        "print(area)\n",
        "print(perimeter)\n"
      ]
    }
  ]
}