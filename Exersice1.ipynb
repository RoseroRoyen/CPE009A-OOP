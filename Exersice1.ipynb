{
  "nbformat": 4,
  "nbformat_minor": 0,
  "metadata": {
    "colab": {
      "provenance": [],
      "authorship_tag": "ABX9TyPLDNKSlfIcxwIXpQcZkoer",
      "include_colab_link": true
    },
    "kernelspec": {
      "name": "python3",
      "display_name": "Python 3"
    },
    "language_info": {
      "name": "python"
    }
  },
  "cells": [
    {
      "cell_type": "markdown",
      "metadata": {
        "id": "view-in-github",
        "colab_type": "text"
      },
      "source": [
        "<a href=\"https://colab.research.google.com/github/RoseroRoyen/CPE009A-OOP/blob/main/Exersice1.ipynb\" target=\"_parent\"><img src=\"https://colab.research.google.com/assets/colab-badge.svg\" alt=\"Open In Colab\"/></a>"
      ]
    },
    {
      "cell_type": "markdown",
      "source": [
        "**Algorithm and Flowchart**"
      ],
      "metadata": {
        "id": "lwkunG9vTcx4"
      }
    },
    {
      "cell_type": "markdown",
      "source": [
        "1. Start\n",
        "2. Input your w1 and h1\n",
        "2. Multiply the w1 and h1 to get the area\n",
        "3. Multiply by 2 the sum of w1 and h1\n",
        "4. the program will show the result from the given numbers.\n",
        "5. End\n",
        "\n",
        "\n"
      ],
      "metadata": {
        "id": "ekWdBFevUJp5"
      }
    },
    {
      "cell_type": "code",
      "execution_count": null,
      "metadata": {
        "colab": {
          "base_uri": "https://localhost:8080/"
        },
        "id": "0Hg9qhx4TbvM",
        "outputId": "4ffd964e-ebc8-43c0-eac1-dd0d586103bd"
      },
      "outputs": [
        {
          "output_type": "stream",
          "name": "stdout",
          "text": [
            "The area and perimeter\n"
          ]
        }
      ],
      "source": [
        "print(\"The area and perimeter\")\n",
        "w1= float(input())\n",
        "h1= float(input())\n",
        "area= (w1 * h1)\n",
        "perimeter = 2*(w1 + h1)\n",
        "print(area)\n",
        "print(perimeter)\n"
      ]
    }
  ]
}