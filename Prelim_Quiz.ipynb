{
  "nbformat": 4,
  "nbformat_minor": 0,
  "metadata": {
    "colab": {
      "provenance": [],
      "authorship_tag": "ABX9TyOlvI3EhIuPcccvu6Tmjuwg",
      "include_colab_link": true
    },
    "kernelspec": {
      "name": "python3",
      "display_name": "Python 3"
    },
    "language_info": {
      "name": "python"
    }
  },
  "cells": [
    {
      "cell_type": "markdown",
      "metadata": {
        "id": "view-in-github",
        "colab_type": "text"
      },
      "source": [
        "<a href=\"https://colab.research.google.com/github/RoseroRoyen/CPE009A-OOP/blob/main/Prelim_Quiz.ipynb\" target=\"_parent\"><img src=\"https://colab.research.google.com/assets/colab-badge.svg\" alt=\"Open In Colab\"/></a>"
      ]
    },
    {
      "cell_type": "markdown",
      "source": [
        "https://lucid.app/lucidchart/f24f8e57-181d-4916-9489-e9ee5dc10e9f/edit?beaconFlowId=AE81DDAE9F50EF20&invitationId=inv_70168e79-2455-42ed-a53d-fa62bddee48c&page=0_0#\n"
      ],
      "metadata": {
        "id": "rNbPg2EhYFyx"
      }
    },
    {
      "cell_type": "code",
      "source": [
        "n=20\n",
        "total_numbers = n\n",
        "sum = 0\n",
        "average = 0\n",
        "\n",
        "if (n>=0):\n",
        "  sum+=n\n",
        "  n-=1\n",
        "print(sum)\n",
        "else\n",
        "print(sum)\n",
        "average= sum/total_numbers\n",
        "print(average)\n",
        "\n",
        "\n",
        "\n",
        "\n",
        "\n"
      ],
      "metadata": {
        "colab": {
          "base_uri": "https://localhost:8080/"
        },
        "id": "WTxOp5_8RA3c",
        "outputId": "32163f01-209d-4b87-e3a0-d496e97ba646"
      },
      "execution_count": 26,
      "outputs": [
        {
          "output_type": "stream",
          "name": "stdout",
          "text": [
            "210\n",
            "10.5\n"
          ]
        }
      ]
    }
  ]
}