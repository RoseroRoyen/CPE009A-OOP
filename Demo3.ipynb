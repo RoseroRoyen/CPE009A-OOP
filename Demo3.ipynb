{
  "nbformat": 4,
  "nbformat_minor": 0,
  "metadata": {
    "colab": {
      "provenance": [],
      "authorship_tag": "ABX9TyPjymzBXJZRlsLXDvvz7qrh",
      "include_colab_link": true
    },
    "kernelspec": {
      "name": "python3",
      "display_name": "Python 3"
    },
    "language_info": {
      "name": "python"
    }
  },
  "cells": [
    {
      "cell_type": "markdown",
      "metadata": {
        "id": "view-in-github",
        "colab_type": "text"
      },
      "source": [
        "<a href=\"https://colab.research.google.com/github/RoseroRoyen/CPE009A-OOP/blob/main/Demo3.ipynb\" target=\"_parent\"><img src=\"https://colab.research.google.com/assets/colab-badge.svg\" alt=\"Open In Colab\"/></a>"
      ]
    },
    {
      "cell_type": "markdown",
      "source": [
        "Conditional Statement\n"
      ],
      "metadata": {
        "id": "iCj40yeXePQ5"
      }
    },
    {
      "cell_type": "markdown",
      "source": [
        "**If Statement**"
      ],
      "metadata": {
        "id": "1qI2ArhFeesk"
      }
    },
    {
      "cell_type": "code",
      "execution_count": null,
      "metadata": {
        "colab": {
          "base_uri": "https://localhost:8080/"
        },
        "id": "TvCAzikhTnXt",
        "outputId": "2a783710-27da-4eae-9225-dc9bbb7f0fe0"
      },
      "outputs": [
        {
          "output_type": "stream",
          "name": "stdout",
          "text": [
            "m is less than n\n"
          ]
        }
      ],
      "source": [
        "m=20\n",
        "n=30\n",
        "if m<n:\n",
        "  print(\"m is less than n\")"
      ]
    },
    {
      "cell_type": "markdown",
      "source": [
        "**Elif Statement**"
      ],
      "metadata": {
        "id": "DXerHS7ofpqR"
      }
    },
    {
      "cell_type": "code",
      "source": [
        "m=30\n",
        "n=30\n",
        "\n",
        "if m<n:\n",
        "  print(\"m is less than n\")\n",
        "elif m==n:\n",
        "  print(\"They are equals\")"
      ],
      "metadata": {
        "colab": {
          "base_uri": "https://localhost:8080/"
        },
        "id": "mR0KPqdIfsVC",
        "outputId": "99f51b34-31ab-425c-ec21-dc446d80f363"
      },
      "execution_count": null,
      "outputs": [
        {
          "output_type": "stream",
          "name": "stdout",
          "text": [
            "They are equals\n"
          ]
        }
      ]
    },
    {
      "cell_type": "markdown",
      "source": [
        "**Else Statement**"
      ],
      "metadata": {
        "id": "-3bfJGVQgLDE"
      }
    },
    {
      "cell_type": "code",
      "source": [
        "m=70\n",
        "n=1000\n",
        "\n",
        "if m>n:\n",
        "  print(\"m is less than n\")\n",
        "else:\n",
        "  print(\"70 is less than 1000\")"
      ],
      "metadata": {
        "colab": {
          "base_uri": "https://localhost:8080/"
        },
        "id": "9I6FGy8egPB8",
        "outputId": "fae39240-76c7-4741-a855-50cd17f508a9"
      },
      "execution_count": null,
      "outputs": [
        {
          "output_type": "stream",
          "name": "stdout",
          "text": [
            "70 is less than 1000\n"
          ]
        }
      ]
    },
    {
      "cell_type": "markdown",
      "source": [
        "**Short Hand If Statement**"
      ],
      "metadata": {
        "id": "JO32UJFGglfq"
      }
    },
    {
      "cell_type": "code",
      "source": [
        "m=20\n",
        "n=30\n",
        "if m<n:print(\"m is less than n\")"
      ],
      "metadata": {
        "colab": {
          "base_uri": "https://localhost:8080/"
        },
        "id": "d2O8XZ7Ngr-A",
        "outputId": "4bc1e1d7-503f-46ea-a2ec-57b0cab95d6a"
      },
      "execution_count": null,
      "outputs": [
        {
          "output_type": "stream",
          "name": "stdout",
          "text": [
            "m is less than n\n"
          ]
        }
      ]
    },
    {
      "cell_type": "markdown",
      "source": [
        "**Short Hand If...Else**"
      ],
      "metadata": {
        "id": "0txkdw-lg1f2"
      }
    },
    {
      "cell_type": "code",
      "source": [
        "m=70\n",
        "n=1000\n",
        "\n",
        "print(\"m is less than n\") if m>n else print(\"70 is less than 1000\")\n"
      ],
      "metadata": {
        "colab": {
          "base_uri": "https://localhost:8080/"
        },
        "id": "ki7GxNnlg5tq",
        "outputId": "0ab6d241-6043-4283-f357-647fa84ecaad"
      },
      "execution_count": null,
      "outputs": [
        {
          "output_type": "stream",
          "name": "stdout",
          "text": [
            "70 is less than 1000\n"
          ]
        }
      ]
    },
    {
      "cell_type": "markdown",
      "source": [
        "**And-Both Conditions**"
      ],
      "metadata": {
        "id": "9zSsrZaChcQ7"
      }
    },
    {
      "cell_type": "code",
      "source": [
        "m=10\n",
        "n=20\n",
        "o=45\n",
        "if m<n and n<o:\n",
        "  print(\"All true\")"
      ],
      "metadata": {
        "colab": {
          "base_uri": "https://localhost:8080/"
        },
        "id": "bSNq5CABhgq6",
        "outputId": "d16ba19d-b122-43a9-91b1-ece6de858000"
      },
      "execution_count": null,
      "outputs": [
        {
          "output_type": "stream",
          "name": "stdout",
          "text": [
            "All true\n"
          ]
        }
      ]
    },
    {
      "cell_type": "markdown",
      "source": [
        "**Or Condition**"
      ],
      "metadata": {
        "id": "kY0H4q7Lh2Rb"
      }
    },
    {
      "cell_type": "code",
      "source": [
        "m=10\n",
        "n=20\n",
        "o=45\n",
        "if m==n or n<o:\n",
        "  print(\"one is true\")"
      ],
      "metadata": {
        "colab": {
          "base_uri": "https://localhost:8080/"
        },
        "id": "2hb7CATIh53T",
        "outputId": "d63d5416-3272-405c-e315-1cbc7de7c113"
      },
      "execution_count": null,
      "outputs": [
        {
          "output_type": "stream",
          "name": "stdout",
          "text": [
            "one is true\n"
          ]
        }
      ]
    },
    {
      "cell_type": "markdown",
      "source": [
        "**Nested if**"
      ],
      "metadata": {
        "id": "Otei7UkEiI-N"
      }
    },
    {
      "cell_type": "code",
      "source": [
        "r=100\n",
        "if r>10:\n",
        "  print(\"above 10\")\n",
        "  if r>110:\n",
        "    print(\"also above it\")\n",
        "  else:\n",
        "    print(\"lol\")"
      ],
      "metadata": {
        "colab": {
          "base_uri": "https://localhost:8080/"
        },
        "id": "JcMljf1tiOKA",
        "outputId": "d465fd63-16e6-470b-ac79-36c062f42835"
      },
      "execution_count": null,
      "outputs": [
        {
          "output_type": "stream",
          "name": "stdout",
          "text": [
            "above 10\n",
            "lol\n"
          ]
        }
      ]
    },
    {
      "cell_type": "markdown",
      "source": [
        "**Example 1**"
      ],
      "metadata": {
        "id": "Uh27u9wAkJLd"
      }
    },
    {
      "cell_type": "code",
      "source": [
        "age = input()\n",
        "\n",
        "if int(age)>=18:\n",
        "  print(\"Qualified to vote\")\n",
        "else:\n",
        "  print(\"Not qualified to vote\")"
      ],
      "metadata": {
        "colab": {
          "base_uri": "https://localhost:8080/"
        },
        "id": "Ckxzb6mUkMDL",
        "outputId": "63b3b23a-ec22-4240-fa30-9367c89649cc"
      },
      "execution_count": null,
      "outputs": [
        {
          "output_type": "stream",
          "name": "stdout",
          "text": [
            "3\n",
            "Not qualified to vote\n"
          ]
        }
      ]
    },
    {
      "cell_type": "markdown",
      "source": [
        "Example 2"
      ],
      "metadata": {
        "id": "7e9iMgyokxIZ"
      }
    },
    {
      "cell_type": "code",
      "source": [
        "Number = input()\n",
        "\n",
        "if int(Number) > 0:\n",
        "  print(\"It is positive\")\n",
        "elif int(Number) < 0:\n",
        "  print(\"It is negative\")\n",
        "else:\n",
        "  print(\"Zero\")"
      ],
      "metadata": {
        "colab": {
          "base_uri": "https://localhost:8080/"
        },
        "id": "VPe-gxEYkzCV",
        "outputId": "df15edc8-699c-4d40-cef6-74297ec3192d"
      },
      "execution_count": null,
      "outputs": [
        {
          "output_type": "stream",
          "name": "stdout",
          "text": [
            "-434\n",
            "It is negative\n"
          ]
        }
      ]
    },
    {
      "cell_type": "markdown",
      "source": [
        "**Example 3**"
      ],
      "metadata": {
        "id": "AgMwhdOFnbnV"
      }
    },
    {
      "cell_type": "code",
      "source": [
        "gr = input()\n",
        "if int(gr) >= 70:\n",
        "  print(\"passed\")\n",
        "elif int(gr) < 70 and int(gr) >= 64:\n",
        "  print(\"Remedial\")\n",
        "elif int(gr) < 64 and int(gr) > 0:\n",
        "    print(\"Failed\")\n"
      ],
      "metadata": {
        "colab": {
          "base_uri": "https://localhost:8080/"
        },
        "id": "2CbbqWc-ne2s",
        "outputId": "01e70ce8-9c6d-481f-cbc3-159356432b37"
      },
      "execution_count": null,
      "outputs": [
        {
          "output_type": "stream",
          "name": "stdout",
          "text": [
            "56\n",
            "Failed\n"
          ]
        }
      ]
    }
  ]
}