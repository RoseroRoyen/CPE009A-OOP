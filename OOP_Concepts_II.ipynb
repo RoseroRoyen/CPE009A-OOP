{
  "nbformat": 4,
  "nbformat_minor": 0,
  "metadata": {
    "colab": {
      "provenance": [],
      "authorship_tag": "ABX9TyNJMI6Y8kl57X7dYLMSo0zH",
      "include_colab_link": true
    },
    "kernelspec": {
      "name": "python3",
      "display_name": "Python 3"
    },
    "language_info": {
      "name": "python"
    }
  },
  "cells": [
    {
      "cell_type": "markdown",
      "metadata": {
        "id": "view-in-github",
        "colab_type": "text"
      },
      "source": [
        "<a href=\"https://colab.research.google.com/github/RoseroRoyen/CPE009A-OOP/blob/main/OOP_Concepts_II.ipynb\" target=\"_parent\"><img src=\"https://colab.research.google.com/assets/colab-badge.svg\" alt=\"Open In Colab\"/></a>"
      ]
    },
    {
      "cell_type": "code",
      "execution_count": 7,
      "metadata": {
        "colab": {
          "base_uri": "https://localhost:8080/"
        },
        "id": "xN0dFprLWXx9",
        "outputId": "ad1fa687-3db9-4147-e9b8-75ed1e0fcf14"
      },
      "outputs": [
        {
          "output_type": "stream",
          "name": "stdout",
          "text": [
            "Griffon Vulture flies above clouds\n",
            "Common Crane flies above clouds\n",
            "Emu flies above clouds\n"
          ]
        }
      ],
      "source": [
        "class Birds:\n",
        "  def __init__(self,bird_name):\n",
        "    self.bird_name = bird_name\n",
        "  def flying_birds(self):\n",
        "    print(f\"{self.bird_name} flies above clouds\")\n",
        "  def non_flying_birds(self):\n",
        "    print(f\"{self.bird} os the national bird of Phililppines\")\n",
        "\n",
        "vulture = Birds(\"Griffon Vulture\")\n",
        "crane = Birds(\"Common Crane\")\n",
        "emu = Birds(\"Emu\")\n",
        "vulture.flying_birds()\n",
        "crane.flying_birds()\n",
        "emu.flying_birds()\n"
      ]
    },
    {
      "cell_type": "code",
      "source": [
        "class Counter:\n",
        "  def __init__(self):\n",
        "    self.current = 0\n",
        "  def increment(self):\n",
        "    self.current += 1\n",
        "  def value(self):\n",
        "    return self.current\n",
        "  def reset(self):\n",
        "    self.current = 0\n",
        "\n",
        "counter = Counter()\n",
        "\n",
        "counter.increment()\n",
        "counter.increment()\n",
        "counter.increment()\n",
        "\n",
        "print(counter.value)\n"
      ],
      "metadata": {
        "id": "plx88Wv6eF0K"
      },
      "execution_count": null,
      "outputs": []
    },
    {
      "cell_type": "code",
      "source": [
        "class RegularPolygon:\n",
        "  def __init__(self,side):\n",
        "    self._side = side\n",
        "class Square(RegularPolygon):\n",
        "  def area(self):\n",
        "    return self._side * self._side\n",
        "class EquilateralTriangle(RegularPolygon):\n",
        "  def area(self):\n",
        "    return self._side * self._side * 0.433\n",
        "\n",
        "square = Square(4)\n",
        "print(square.area())\n",
        "equiltriangle = EquilateralTriangle(4)\n",
        "print(equiltriangle.area())"
      ],
      "metadata": {
        "colab": {
          "base_uri": "https://localhost:8080/"
        },
        "id": "yuazjQoteS1Z",
        "outputId": "2896ba97-6907-444d-aa34-b18c35754d4b"
      },
      "execution_count": 36,
      "outputs": [
        {
          "output_type": "stream",
          "name": "stdout",
          "text": [
            "16\n",
            "6.928\n"
          ]
        }
      ]
    },
    {
      "cell_type": "code",
      "source": [
        "class RegularPolygon:\n",
        "  def __init__(self,side):\n",
        "    self.__side = side\n",
        "  def area(self):\n",
        "    print(self.__side * self.__side)\n",
        "class Square(RegularPolygon):\n",
        "  pass\n",
        "\n",
        "square = Square(4)\n",
        "square.area()\n"
      ],
      "metadata": {
        "colab": {
          "base_uri": "https://localhost:8080/"
        },
        "id": "oP7d8z8JmuLZ",
        "outputId": "ab13296e-efea-42fb-e6ed-858a925ea067"
      },
      "execution_count": 46,
      "outputs": [
        {
          "output_type": "stream",
          "name": "stdout",
          "text": [
            "16\n"
          ]
        }
      ]
    },
    {
      "cell_type": "code",
      "source": [
        "class Person:\n",
        "  def __init__(self,pre,mid,fin):\n",
        "    self.pre = pre\n",
        "    self.mid = mid\n",
        "    self.fin = fin\n",
        "class std1(Person):\n",
        "  def Grade(self):\n",
        "    return(self.pre + self.mid + self.fin)/3\n",
        "class std2(Person):\n",
        "  def Grade(self):\n",
        "    return(self.pre + self.mid + self.fin)/3\n",
        "class std3(Person):\n",
        "  def Grade(self):\n",
        "    return(self.pre + self.mid + self.fin)/3\n",
        "\n",
        "Royen = std1(89, 89, 89)\n",
        "print(Royen.Grade())\n",
        "Josh = std2(11, 11, 11)\n",
        "print(Josh.Grade())\n",
        "Kenneth = std3(56, 56, 56)\n",
        "print(Kenneth.Grade())"
      ],
      "metadata": {
        "colab": {
          "base_uri": "https://localhost:8080/"
        },
        "id": "uI3VwUmdtXeH",
        "outputId": "22771b15-924f-46b1-82d1-64da4bceb70f"
      },
      "execution_count": 61,
      "outputs": [
        {
          "output_type": "stream",
          "name": "stdout",
          "text": [
            "89.0\n",
            "11.0\n",
            "56.0\n"
          ]
        }
      ]
    }
  ]
}