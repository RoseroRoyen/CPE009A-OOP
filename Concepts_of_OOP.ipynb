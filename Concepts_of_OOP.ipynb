{
  "nbformat": 4,
  "nbformat_minor": 0,
  "metadata": {
    "colab": {
      "provenance": [],
      "authorship_tag": "ABX9TyMx7RLzXbzqwW1OavuMRd7K",
      "include_colab_link": true
    },
    "kernelspec": {
      "name": "python3",
      "display_name": "Python 3"
    },
    "language_info": {
      "name": "python"
    }
  },
  "cells": [
    {
      "cell_type": "markdown",
      "metadata": {
        "id": "view-in-github",
        "colab_type": "text"
      },
      "source": [
        "<a href=\"https://colab.research.google.com/github/RoseroRoyen/CPE009A-OOP/blob/main/Concepts_of_OOP.ipynb\" target=\"_parent\"><img src=\"https://colab.research.google.com/assets/colab-badge.svg\" alt=\"Open In Colab\"/></a>"
      ]
    },
    {
      "cell_type": "code",
      "execution_count": null,
      "metadata": {
        "id": "NWIIlMXVg8wJ"
      },
      "outputs": [],
      "source": [
        "class Car:\n",
        "  pass\n",
        "\n",
        "obj1 = Car()\n",
        "print(obj1)\n",
        "\n"
      ]
    },
    {
      "cell_type": "code",
      "source": [
        "class Car:\n",
        "  def __init__(self,name,color,mileage):\n",
        "    self.name = name\n",
        "    self.color = color\n",
        "    self.mileage = mileage\n",
        "\n",
        "obj1 = Car(\"Lamborgini\",\"Yellow\",1000)\n",
        "print(obj1.name)\n",
        "print(obj1.color)\n",
        "print(obj1.mileage)"
      ],
      "metadata": {
        "colab": {
          "base_uri": "https://localhost:8080/"
        },
        "id": "T5V0bJngibTr",
        "outputId": "f5076db6-b355-4af7-8531-2a610252b194"
      },
      "execution_count": 39,
      "outputs": [
        {
          "output_type": "stream",
          "name": "stdout",
          "text": [
            "Lamborgini\n",
            "Yellow\n",
            "1000\n"
          ]
        }
      ]
    },
    {
      "cell_type": "markdown",
      "source": [
        "Application 1 - Write a Python program that prints your student information with the following attributes: name, age, Course, and Section. Use class name student\n"
      ],
      "metadata": {
        "id": "PixB4iqdmr9t"
      }
    },
    {
      "cell_type": "code",
      "source": [
        "class student:\n",
        "  def __init__(self,name,age,course,section):\n",
        "    self.name = name\n",
        "    self.age = age\n",
        "    self.course = course\n",
        "    self.section = section\n",
        "\n",
        "obj1 = student (\"Royen M. Rosero\",\"18 yrs. old\",\"CPE009A-OOP\",\"CPE12S6\")\n",
        "print(obj1.name)\n",
        "print(obj1.age)\n",
        "print(obj1.course)\n",
        "print(obj1.section)\n"
      ],
      "metadata": {
        "colab": {
          "base_uri": "https://localhost:8080/"
        },
        "id": "cF8gz5_7nBce",
        "outputId": "926da3d0-4f79-4f3b-f6ef-749a767f0096"
      },
      "execution_count": 37,
      "outputs": [
        {
          "output_type": "stream",
          "name": "stdout",
          "text": [
            "Royen M. Rosero\n",
            "18\n",
            "CPE009A-OOP\n",
            "CPE12S6\n"
          ]
        }
      ]
    },
    {
      "cell_type": "code",
      "source": [],
      "metadata": {
        "id": "e-59PE_fowVV"
      },
      "execution_count": null,
      "outputs": []
    }
  ]
}