{
  "nbformat": 4,
  "nbformat_minor": 0,
  "metadata": {
    "colab": {
      "provenance": [],
      "authorship_tag": "ABX9TyO7B3ejpNrwFvqp55h/rj0+",
      "include_colab_link": true
    },
    "kernelspec": {
      "name": "python3",
      "display_name": "Python 3"
    },
    "language_info": {
      "name": "python"
    }
  },
  "cells": [
    {
      "cell_type": "markdown",
      "metadata": {
        "id": "view-in-github",
        "colab_type": "text"
      },
      "source": [
        "<a href=\"https://colab.research.google.com/github/RoseroRoyen/CPE009A-OOP/blob/main/Demo2.ipynb\" target=\"_parent\"><img src=\"https://colab.research.google.com/assets/colab-badge.svg\" alt=\"Open In Colab\"/></a>"
      ]
    },
    {
      "cell_type": "code",
      "source": [],
      "metadata": {
        "id": "3XM5F8rwPNNJ"
      },
      "execution_count": null,
      "outputs": []
    },
    {
      "cell_type": "markdown",
      "source": [
        "**Algorithms and Flowchart**"
      ],
      "metadata": {
        "id": "LnTDtaVyPHCa"
      }
    },
    {
      "cell_type": "code",
      "execution_count": null,
      "metadata": {
        "id": "2y14LDJeMf5W"
      },
      "outputs": [],
      "source": [
        "ken1=60\n",
        "mat2=60\n",
        "rud3=60\n",
        "average=0\n",
        "sum=0\n",
        "\n",
        "sum= ken1+mat2+rud3\n",
        "average=sum/3\n",
        "\n",
        "print(sum)\n",
        "print(average)\n",
        "\n",
        "\n"
      ]
    },
    {
      "cell_type": "code",
      "source": [
        "print(\"Input 3 numbers\")\n",
        "ken1 = input()\n",
        "mat2 = input()\n",
        "rud3 = input()\n",
        "\n",
        "average=(int(ken1)+int(mat2)+int(rud3))/3\n",
        "print(average)\n",
        "\n",
        "\n",
        "\n"
      ],
      "metadata": {
        "id": "Ez-ILnEzPcQw"
      },
      "execution_count": null,
      "outputs": []
    }
  ]
}