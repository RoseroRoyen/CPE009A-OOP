{
  "nbformat": 4,
  "nbformat_minor": 0,
  "metadata": {
    "colab": {
      "provenance": [],
      "authorship_tag": "ABX9TyPycfbINeRTJP3ewgxhKG/i",
      "include_colab_link": true
    },
    "kernelspec": {
      "name": "python3",
      "display_name": "Python 3"
    },
    "language_info": {
      "name": "python"
    }
  },
  "cells": [
    {
      "cell_type": "markdown",
      "metadata": {
        "id": "view-in-github",
        "colab_type": "text"
      },
      "source": [
        "<a href=\"https://colab.research.google.com/github/RoseroRoyen/CPE009A-OOP/blob/main/Demo2.ipynb\" target=\"_parent\"><img src=\"https://colab.research.google.com/assets/colab-badge.svg\" alt=\"Open In Colab\"/></a>"
      ]
    },
    {
      "cell_type": "code",
      "execution_count": 6,
      "metadata": {
        "colab": {
          "base_uri": "https://localhost:8080/"
        },
        "id": "2y14LDJeMf5W",
        "outputId": "00efe8a2-e3e1-44a8-cb9a-0af94791dd31"
      },
      "outputs": [
        {
          "output_type": "stream",
          "name": "stdout",
          "text": [
            "180\n",
            "60.0\n"
          ]
        }
      ],
      "source": [
        "ken1=60\n",
        "mat2=60\n",
        "rud3=60\n",
        "average=0\n",
        "sum=0\n",
        "\n",
        "sum= ken1+mat2+rud3\n",
        "average=sum/3\n",
        "\n",
        "print(sum)\n",
        "print(average)\n",
        "\n",
        "\n"
      ]
    }
  ]
}