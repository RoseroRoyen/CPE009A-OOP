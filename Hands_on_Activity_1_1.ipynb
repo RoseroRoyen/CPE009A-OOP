{
  "nbformat": 4,
  "nbformat_minor": 0,
  "metadata": {
    "colab": {
      "provenance": [],
      "authorship_tag": "ABX9TyPXeTE2VQVcBXC6lDZh+FhR",
      "include_colab_link": true
    },
    "kernelspec": {
      "name": "python3",
      "display_name": "Python 3"
    },
    "language_info": {
      "name": "python"
    }
  },
  "cells": [
    {
      "cell_type": "markdown",
      "metadata": {
        "id": "view-in-github",
        "colab_type": "text"
      },
      "source": [
        "<a href=\"https://colab.research.google.com/github/RoseroRoyen/CPE009A-OOP/blob/main/Hands_on_Activity_1_1.ipynb\" target=\"_parent\"><img src=\"https://colab.research.google.com/assets/colab-badge.svg\" alt=\"Open In Colab\"/></a>"
      ]
    },
    {
      "cell_type": "markdown",
      "source": [
        "**Task 1**"
      ],
      "metadata": {
        "id": "EgcN3bXYCVeY"
      }
    },
    {
      "cell_type": "code",
      "execution_count": null,
      "metadata": {
        "id": "W5Ec_NC2CRDe"
      },
      "outputs": [],
      "source": [
        "base = float(input(\"Enter your base: \"))\n",
        "height = float(input(\"Enter your height: \"))\n",
        "area = 1/2*base*height\n",
        "print(\"The area of the triangle is:\", area)"
      ]
    },
    {
      "cell_type": "markdown",
      "source": [
        "**Task 2**"
      ],
      "metadata": {
        "id": "S37vAW8VCzAH"
      }
    },
    {
      "cell_type": "code",
      "source": [
        "C = int(input(\"Enter Temperature in Celsius: \"))\n",
        "F = (C*9/5) + 32\n",
        "print(\"In Fahrenheit:\", F)"
      ],
      "metadata": {
        "id": "TL6NbAkfCzYt"
      },
      "execution_count": null,
      "outputs": []
    },
    {
      "cell_type": "markdown",
      "source": [
        "**Task 3**"
      ],
      "metadata": {
        "id": "PYxlgreWC1ES"
      }
    },
    {
      "cell_type": "code",
      "source": [
        "import math\n",
        "\n",
        "def calculate_distance(x1, y1, x2, y2):\n",
        "    distance = math.sqrt((x2 - x1)**2 + (y2 - y1)**2)\n",
        "    return distance\n",
        "def main():\n",
        "    x1 = float(input(\"Enter the x-coordinate of the first point: \"))\n",
        "    y1 = float(input(\"Enter the y-coordinate of the first point: \"))\n",
        "    x2 = float(input(\"Enter the x-coordinate of the second point: \"))\n",
        "    y2 = float(input(\"Enter the y-coordinate of the second point: \"))\n",
        "\n",
        "    distance = calculate_distance(x1, y1, x2, y2)\n",
        "    print(\"The distance between the two points is:\", distance)\n",
        "\n",
        "if __name__ == \"__main__\":\n",
        "    main()\n",
        "\n",
        "\n"
      ],
      "metadata": {
        "id": "uF7PkmEIC2rl",
        "colab": {
          "base_uri": "https://localhost:8080/"
        },
        "outputId": "cb9d524f-5916-42d9-a8fa-e81f5e6c275b"
      },
      "execution_count": 47,
      "outputs": [
        {
          "output_type": "stream",
          "name": "stdout",
          "text": [
            "Enter the x-coordinate of the first point: -3\n",
            "Enter the y-coordinate of the first point: 3\n",
            "Enter the x-coordinate of the second point: 2\n",
            "Enter the y-coordinate of the second point: 2\n",
            "The distance between the two points is: 5.0990195135927845\n"
          ]
        }
      ]
    }
  ]
}