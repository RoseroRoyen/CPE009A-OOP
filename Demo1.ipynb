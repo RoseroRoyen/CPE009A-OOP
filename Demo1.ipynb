{
  "nbformat": 4,
  "nbformat_minor": 0,
  "metadata": {
    "colab": {
      "provenance": [],
      "authorship_tag": "ABX9TyNNIBU2lrm4o5jbzlDp16C2",
      "include_colab_link": true
    },
    "kernelspec": {
      "name": "python3",
      "display_name": "Python 3"
    },
    "language_info": {
      "name": "python"
    }
  },
  "cells": [
    {
      "cell_type": "markdown",
      "metadata": {
        "id": "view-in-github",
        "colab_type": "text"
      },
      "source": [
        "<a href=\"https://colab.research.google.com/github/RoseroRoyen/CPE009A-OOP/blob/main/Demo1.ipynb\" target=\"_parent\"><img src=\"https://colab.research.google.com/assets/colab-badge.svg\" alt=\"Open In Colab\"/></a>"
      ]
    },
    {
      "cell_type": "markdown",
      "source": [
        "**Python Indentation**"
      ],
      "metadata": {
        "id": "rADBzUw0LDhJ"
      }
    },
    {
      "cell_type": "code",
      "execution_count": null,
      "metadata": {
        "id": "jbtT4tvDGbYr"
      },
      "outputs": [],
      "source": [
        "if 5 > 2:\n",
        "  print (\"five is greater than 2!\")"
      ]
    },
    {
      "cell_type": "markdown",
      "source": [
        "**Python Comments**"
      ],
      "metadata": {
        "id": "vXTj27-uLIgh"
      }
    },
    {
      "cell_type": "code",
      "source": [
        "if 5 > 2:\n",
        "  print (\"five is greater than 2!\") #comparison of numbers 5 and 2"
      ],
      "metadata": {
        "colab": {
          "base_uri": "https://localhost:8080/"
        },
        "id": "-O2X35jtJ3ZY",
        "outputId": "fc63be4b-e1e8-4f46-dffb-1a56d843f1db"
      },
      "execution_count": 14,
      "outputs": [
        {
          "output_type": "stream",
          "name": "stdout",
          "text": [
            "five is greater than 2!\n"
          ]
        }
      ]
    },
    {
      "cell_type": "markdown",
      "source": [
        "**Python Variables**"
      ],
      "metadata": {
        "id": "736WmfzBLjug"
      }
    },
    {
      "cell_type": "code",
      "source": [
        "#This is a single variable with a value\n",
        "x = 1\n",
        "a,b=0,-1\n",
        "a,b,c=0,-1,-2\n",
        "\n",
        "print(a)\n",
        "print(b)\n",
        "print(x)\n",
        "b=\"Matthew\"\n",
        "\n",
        "print(b)\n",
        "\n",
        "\n"
      ],
      "metadata": {
        "colab": {
          "base_uri": "https://localhost:8080/"
        },
        "id": "2hJxSPe_K2Fb",
        "outputId": "37ba01e7-ce0b-4ee0-b9bc-899a786b6718"
      },
      "execution_count": 27,
      "outputs": [
        {
          "output_type": "stream",
          "name": "stdout",
          "text": [
            "0\n",
            "-1\n",
            "1\n",
            "Matthew\n"
          ]
        }
      ]
    },
    {
      "cell_type": "markdown",
      "source": [
        "Casting"
      ],
      "metadata": {
        "id": "EI35e6pvNcHg"
      }
    },
    {
      "cell_type": "code",
      "source": [
        "b=\"sally #This a type of string\"\n",
        "b=int(4)\n",
        "print(b)\n",
        "\n",
        "b=float(4)\n",
        "print(b)"
      ],
      "metadata": {
        "colab": {
          "base_uri": "https://localhost:8080/"
        },
        "id": "4kZuy3HJNex6",
        "outputId": "c1e80cfa-5257-4910-eacc-ccbba48a1fd1"
      },
      "execution_count": 28,
      "outputs": [
        {
          "output_type": "stream",
          "name": "stdout",
          "text": [
            "4\n",
            "4.0\n"
          ]
        }
      ]
    },
    {
      "cell_type": "markdown",
      "source": [
        "Type() function"
      ],
      "metadata": {
        "id": "4vwMrYFgNyrn"
      }
    },
    {
      "cell_type": "code",
      "source": [
        "x=5\n",
        "y=\"John\"\n",
        "print(type(x))\n",
        "print(type(y))"
      ],
      "metadata": {
        "colab": {
          "base_uri": "https://localhost:8080/"
        },
        "id": "bUSoWwtZN9e3",
        "outputId": "389318b6-874a-44b6-82a7-8bae37eabfc7"
      },
      "execution_count": 34,
      "outputs": [
        {
          "output_type": "stream",
          "name": "stdout",
          "text": [
            "<class 'int'>\n",
            "<class 'str'>\n"
          ]
        }
      ]
    },
    {
      "cell_type": "markdown",
      "source": [
        "Double Quotes or Single Quotes"
      ],
      "metadata": {
        "id": "iZyui8ezPLP4"
      }
    },
    {
      "cell_type": "code",
      "source": [
        "y= \"John\"\n",
        "print(y)\n",
        "y= 'John'\n",
        "print(y)"
      ],
      "metadata": {
        "colab": {
          "base_uri": "https://localhost:8080/"
        },
        "id": "1pR2B6ZYPXgo",
        "outputId": "a3a3de12-e8a8-4ef8-dfab-63744d881c76"
      },
      "execution_count": 36,
      "outputs": [
        {
          "output_type": "stream",
          "name": "stdout",
          "text": [
            "John\n",
            "John\n"
          ]
        }
      ]
    },
    {
      "cell_type": "markdown",
      "source": [
        "Case Sensitive\n"
      ],
      "metadata": {
        "id": "E8Fb1VonPyC_"
      }
    },
    {
      "cell_type": "code",
      "source": [
        "a = 4\n",
        "A=\"Sally\"\n",
        "#A will not overwrite a"
      ],
      "metadata": {
        "id": "ujejoukUP0yP"
      },
      "execution_count": 39,
      "outputs": []
    },
    {
      "cell_type": "markdown",
      "source": [
        "Multiple Variables"
      ],
      "metadata": {
        "id": "5OyiRjUfQLO5"
      }
    },
    {
      "cell_type": "code",
      "source": [
        "x,y,z = \"one\", \"two\", \"three\"\n",
        "print(x)\n",
        "print(y)\n",
        "print(z)"
      ],
      "metadata": {
        "colab": {
          "base_uri": "https://localhost:8080/"
        },
        "id": "3LWeVjtUQOJP",
        "outputId": "8a180611-6783-4e3b-df53-e8370e0640ea"
      },
      "execution_count": 40,
      "outputs": [
        {
          "output_type": "stream",
          "name": "stdout",
          "text": [
            "one\n",
            "two\n",
            "three\n"
          ]
        }
      ]
    },
    {
      "cell_type": "markdown",
      "source": [
        "One Value to Multiple Variables"
      ],
      "metadata": {
        "id": "5Y7lKYXrQ4EI"
      }
    },
    {
      "cell_type": "code",
      "source": [
        "x=y=z= \"four\"\n",
        "print(x)\n",
        "print(y)\n",
        "print(z)"
      ],
      "metadata": {
        "colab": {
          "base_uri": "https://localhost:8080/"
        },
        "id": "FnDZKqfmQ2-4",
        "outputId": "21346893-4fef-4806-ed56-0b56a96d182e"
      },
      "execution_count": 41,
      "outputs": [
        {
          "output_type": "stream",
          "name": "stdout",
          "text": [
            "four\n",
            "four\n",
            "four\n"
          ]
        }
      ]
    },
    {
      "cell_type": "markdown",
      "source": [
        "Output Variables\n"
      ],
      "metadata": {
        "id": "grtwmMGaRPFo"
      }
    },
    {
      "cell_type": "code",
      "source": [
        "x=\"enjoying\"\n",
        "print(\"Python programming is \" + x)"
      ],
      "metadata": {
        "id": "C4xcUS5YRTtn"
      },
      "execution_count": null,
      "outputs": []
    },
    {
      "cell_type": "markdown",
      "source": [
        "Other way"
      ],
      "metadata": {
        "id": "ZC_3nw9gR5i_"
      }
    },
    {
      "cell_type": "code",
      "source": [
        "x=\"Python is \"\n",
        "y=\"enjoying\"\n",
        "z= x + y\n",
        "print(z)"
      ],
      "metadata": {
        "colab": {
          "base_uri": "https://localhost:8080/"
        },
        "id": "rQL9T-ijR7i_",
        "outputId": "ecebd4ae-3f75-4915-e48f-9dbbc0d49af7"
      },
      "execution_count": 49,
      "outputs": [
        {
          "output_type": "stream",
          "name": "stdout",
          "text": [
            "Python is enjoying\n"
          ]
        }
      ]
    },
    {
      "cell_type": "markdown",
      "source": [
        "Arithmetic Operation"
      ],
      "metadata": {
        "id": "PaJMt7kAUpVI"
      }
    },
    {
      "cell_type": "code",
      "source": [
        "x=5\n",
        "y=3\n",
        "print(x+y)\n",
        "\n",
        "x=5\n",
        "y=3\n",
        "sum= x=y\n",
        "sum\n"
      ],
      "metadata": {
        "id": "F__Ua7y2UrrR"
      },
      "execution_count": null,
      "outputs": []
    },
    {
      "cell_type": "markdown",
      "source": [
        "Assignment Operators"
      ],
      "metadata": {
        "id": "U_F7YmOhWJHo"
      }
    },
    {
      "cell_type": "code",
      "source": [
        "a,b,c=0,-1,6\n",
        "c%=3\n",
        "c"
      ],
      "metadata": {
        "id": "952-PBe5WHlP"
      },
      "execution_count": null,
      "outputs": []
    },
    {
      "cell_type": "markdown",
      "source": [
        "Comparison Operators"
      ],
      "metadata": {
        "id": "XmGrfco7WcjY"
      }
    },
    {
      "cell_type": "code",
      "source": [
        "x = 1\n",
        "y = 1\n",
        "x==y"
      ],
      "metadata": {
        "id": "cnf4G8N_Wf6w"
      },
      "execution_count": null,
      "outputs": []
    },
    {
      "cell_type": "markdown",
      "source": [
        "Logical Operators"
      ],
      "metadata": {
        "id": "OB3Yb_OaW1jX"
      }
    },
    {
      "cell_type": "code",
      "source": [
        "x=1\n",
        "x<5 and x<10"
      ],
      "metadata": {
        "id": "bjIGaEDyW48H"
      },
      "execution_count": null,
      "outputs": []
    },
    {
      "cell_type": "markdown",
      "source": [
        "Identity Operators"
      ],
      "metadata": {
        "id": "cSrwyxHeXdVX"
      }
    },
    {
      "cell_type": "code",
      "source": [
        "a,b,c=0,-1,5\n",
        "a is c"
      ],
      "metadata": {
        "id": "Y5CFK-2wXmCf"
      },
      "execution_count": null,
      "outputs": []
    },
    {
      "cell_type": "markdown",
      "source": [
        "Bitwise Operators"
      ],
      "metadata": {
        "id": "vyqTJ65oYC0O"
      }
    },
    {
      "cell_type": "code",
      "source": [
        "1^4"
      ],
      "metadata": {
        "colab": {
          "base_uri": "https://localhost:8080/"
        },
        "id": "a0Y7x4tHYFt4",
        "outputId": "e2ae69c0-8c87-4030-d44f-3058b32b2e5a"
      },
      "execution_count": 63,
      "outputs": [
        {
          "output_type": "execute_result",
          "data": {
            "text/plain": [
              "5"
            ]
          },
          "metadata": {},
          "execution_count": 63
        }
      ]
    }
  ]
}