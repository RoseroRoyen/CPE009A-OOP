{
  "nbformat": 4,
  "nbformat_minor": 0,
  "metadata": {
    "colab": {
      "provenance": [],
      "authorship_tag": "ABX9TyOiEYy4OzSUzL3GmXwMpia9",
      "include_colab_link": true
    },
    "kernelspec": {
      "name": "python3",
      "display_name": "Python 3"
    },
    "language_info": {
      "name": "python"
    }
  },
  "cells": [
    {
      "cell_type": "markdown",
      "metadata": {
        "id": "view-in-github",
        "colab_type": "text"
      },
      "source": [
        "<a href=\"https://colab.research.google.com/github/RoseroRoyen/CPE009A-OOP/blob/main/Rosero%2C_Royen_Prelim_Exam.ipynb\" target=\"_parent\"><img src=\"https://colab.research.google.com/assets/colab-badge.svg\" alt=\"Open In Colab\"/></a>"
      ]
    },
    {
      "cell_type": "markdown",
      "source": [
        "NO. 53-100"
      ],
      "metadata": {
        "id": "E8uZOFeFQuYa"
      }
    },
    {
      "cell_type": "markdown",
      "source": [
        "I answered letter A"
      ],
      "metadata": {
        "id": "nmQLna5spzuH"
      }
    },
    {
      "cell_type": "code",
      "source": [
        "fullname = input(\"Enter your fullname: \")\n",
        "age = input(\"Enter your age: \")\n",
        "print(\"Fullname and age:\" +fullname + \" \" + \"and\" \" \"+age)"
      ],
      "metadata": {
        "colab": {
          "base_uri": "https://localhost:8080/"
        },
        "id": "7CWezEkNoaBw",
        "outputId": "7207b4d8-4df9-465e-d6e6-db07428c00f9"
      },
      "execution_count": 2,
      "outputs": [
        {
          "output_type": "stream",
          "name": "stdout",
          "text": [
            "Enter your fullname: Royen Rosero\n",
            "Enter your age: 18\n",
            "Fullname and age:Royen Rosero and 18\n"
          ]
        }
      ]
    }
  ]
}